{
 "cells": [
  {
   "cell_type": "code",
   "execution_count": null,
   "id": "921ab7da-d329-4ab7-841f-d6bb887ef7cf",
   "metadata": {},
   "outputs": [],
   "source": []
  }
 ],
 "metadata": {
  "kernelspec": {
   "display_name": "",
   "name": ""
  },
  "language_info": {
   "name": ""
  }
 },
 "nbformat": 4,
 "nbformat_minor": 5
}
